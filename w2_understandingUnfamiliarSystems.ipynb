{
 "cells": [
  {
   "cell_type": "markdown",
   "id": "b1a78267",
   "metadata": {},
   "source": [
    "# Creating a word cloud from documentation"
   ]
  },
  {
   "cell_type": "markdown",
   "id": "8583bd8939852835",
   "metadata": {
    "collapsed": false,
    "jupyter": {
     "outputs_hidden": false
    }
   },
   "source": [
    "We start by extracting all of the documentation text into a single large text file. \n",
    "\n",
    "For each piece of text, we use an NLP library to tokenise and lemmatise it (trying to ensure that multiple variants of the same word are treated as the same).\n",
    "\n",
    "Note that you should clone the [CovaSim](https://github.com/InstituteforDiseaseModeling/covasim) repository and replace the path in the cell below with the path to the documentation directory in your local copy of the repository. The current path assumes that you clone it into the Week2 directory containing this exercise. *Important*: If you do this, be sure to add the covasim directory to `.gitignore`. You can do this from PyCharm by right-clicking on the directory and selecting \"git -> \"Add to .gitignore\".\n"
   ]
  },
  {
   "cell_type": "code",
   "execution_count": null,
   "id": "2fc68395",
   "metadata": {
    "ExecuteTime": {
     "end_time": "2024-02-11T19:35:45.263318Z",
     "start_time": "2024-02-11T19:35:45.102604Z"
    }
   },
   "outputs": [],
   "source": [
    "import os\n",
    "import nltk\n",
    "from nltk.tokenize import word_tokenize\n",
    "from nltk.stem import WordNetLemmatizer\n",
    "\n",
    "nltk.download('punkt')\n",
    "nltk.download('wordnet')\n",
    "\n",
    "def extract_text_from_file(file_path):\n",
    "    try:\n",
    "        with open(file_path, 'r', encoding='utf-8') as file:\n",
    "            return file.read()\n",
    "    except UnicodeDecodeError:\n",
    "        print(f\"Ignoring non-UTF-8 file: {file_path}\")\n",
    "        return \"\"\n",
    "\n",
    "def tokenize_and_lemmatize(text):\n",
    "    lemmatizer = WordNetLemmatizer()\n",
    "    tokens = word_tokenize(text)\n",
    "    lemmatized_tokens = [lemmatizer.lemmatize(token) for token in tokens]\n",
    "    return ' '.join(lemmatized_tokens)\n",
    "\n",
    "def process_directory(directory_path):\n",
    "    lemmatized_text = []\n",
    "    for root, dirs, files in os.walk(directory_path):\n",
    "        for file_name in files:\n",
    "            file_path = os.path.join(root, file_name)\n",
    "            text = extract_text_from_file(file_path)\n",
    "            if text:\n",
    "                lemmatized_text.append(tokenize_and_lemmatize(text))\n",
    "    return '\\n\\n'.join(lemmatized_text)\n",
    "\n",
    "                    \n",
    "# Replace 'your_directory_path' with the path to your documentation!\n",
    "directory_text = process_directory('covasim/docs')"
   ]
  },
  {
   "cell_type": "markdown",
   "id": "81ddbe4f19779eca",
   "metadata": {
    "collapsed": false,
    "jupyter": {
     "outputs_hidden": false
    }
   },
   "source": [
    "Now we can use the WordCloud package to process our large text file into a graphical word cloud. \n",
    "We have added some stop words -- words that should not be included in the word count -- such as 'doc' and 'github'\n",
    ", which are more related to the documentation itself rather than the program that is being documented."
   ]
  },
  {
   "cell_type": "code",
   "execution_count": null,
   "id": "dfc4e004",
   "metadata": {
    "ExecuteTime": {
     "end_time": "2024-02-11T19:52:48.946004Z",
     "start_time": "2024-02-11T19:52:47.517528Z"
    }
   },
   "outputs": [],
   "source": [
    "from wordcloud import WordCloud\n",
    "import matplotlib.pyplot as plt\n",
    "from nltk.corpus import stopwords\n",
    "\n",
    "nltk.download('stopwords')\n",
    "\n",
    "nltk_stopwords = set(stopwords.words('english'))\n",
    "\n",
    "wc = WordCloud(background_color='white', \n",
    "     stopwords = nltk_stopwords.union(set(['doc','documentation','github','sphinx','http','n','metadata','markdown','cell_type','output','execution_count','source','use'])), width = 1000, height = 1000).generate(directory_text)\n",
    "plt.axis(\"off\")\n",
    "plt.imshow(wc)\n",
    "plt.savefig('wordcloud.png')"
   ]
  },
  {
   "cell_type": "markdown",
   "id": "7cd9ab4a",
   "metadata": {},
   "source": [
    "# A superficial analysis of module dependencies"
   ]
  },
  {
   "cell_type": "markdown",
   "id": "351b4208",
   "metadata": {},
   "source": [
    "Pydeps (https://github.com/thebjorn/pydeps) creates a dependency graph by scanning import statements \n",
    "in python files.\n",
    "\n",
    "To execute the cell below and render the generated DOT source code, you must install `dot`.\n",
    "Follow this page https://www.graphviz.org/download/ to install `dot` on your system.\n",
    "On Windows, you can follow the [installation procedure](https://forum.graphviz.org/t/new-simplified-installation-procedure-on-windows/224). "
   ]
  },
  {
   "cell_type": "code",
   "execution_count": null,
   "id": "ea68dae9",
   "metadata": {
    "ExecuteTime": {
     "end_time": "2024-02-11T19:36:20.015818Z",
     "start_time": "2024-02-11T19:36:09.315687Z"
    }
   },
   "outputs": [],
   "source": [
    "! pydeps \"covasim/covasim\" -Tpng --noshow --pylib-all --include-missing --cluster --rankdir LR"
   ]
  },
  {
   "cell_type": "markdown",
   "id": "2f5c0e1cc0a27db8",
   "metadata": {
    "collapsed": false,
    "jupyter": {
     "outputs_hidden": false
    }
   },
   "source": [
    "After the cell above has been executed, you should see a file called `covasim.png` in the current directory."
   ]
  }
 ],
 "metadata": {
  "kernelspec": {
   "display_name": "Python 3 (ipykernel)",
   "language": "python",
   "name": "python3"
  },
  "language_info": {
   "codemirror_mode": {
    "name": "ipython",
    "version": 3
   },
   "file_extension": ".py",
   "mimetype": "text/x-python",
   "name": "python",
   "nbconvert_exporter": "python",
   "pygments_lexer": "ipython3",
   "version": "3.11.5"
  }
 },
 "nbformat": 4,
 "nbformat_minor": 5
}
